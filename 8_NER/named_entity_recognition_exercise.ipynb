{
  "cells": [
    {
      "cell_type": "markdown",
      "metadata": {
        "id": "ibF7pjNyhBrR"
      },
      "source": [
        "###                     **Named Entity Recognition (NER): Exercises**"
      ]
    },
    {
      "cell_type": "code",
      "execution_count": 1,
      "metadata": {
        "id": "liI13P5Eg_w-"
      },
      "outputs": [],
      "source": [
        "#importing necessary libraries\n",
        "import spacy\n",
        "\n",
        "nlp = spacy.load(\"en_core_web_sm\")  #creating an object and loading the pre-trained model for \"English\""
      ]
    },
    {
      "cell_type": "markdown",
      "metadata": {
        "id": "LFR-Ep2DhXXa"
      },
      "source": [
        "#### **Excersie: 1**\n",
        "\n",
        "- Extract all the Geographical (cities, Countries, states) names from a given text"
      ]
    },
    {
      "cell_type": "code",
      "source": [
        "nlp.pipe_labels['ner']"
      ],
      "metadata": {
        "id": "R_iM0258Y_Zv",
        "outputId": "c5d6d644-b327-4b89-a6d9-907e8f76adfa",
        "colab": {
          "base_uri": "https://localhost:8080/"
        }
      },
      "execution_count": 4,
      "outputs": [
        {
          "output_type": "execute_result",
          "data": {
            "text/plain": [
              "['CARDINAL',\n",
              " 'DATE',\n",
              " 'EVENT',\n",
              " 'FAC',\n",
              " 'GPE',\n",
              " 'LANGUAGE',\n",
              " 'LAW',\n",
              " 'LOC',\n",
              " 'MONEY',\n",
              " 'NORP',\n",
              " 'ORDINAL',\n",
              " 'ORG',\n",
              " 'PERCENT',\n",
              " 'PERSON',\n",
              " 'PRODUCT',\n",
              " 'QUANTITY',\n",
              " 'TIME',\n",
              " 'WORK_OF_ART']"
            ]
          },
          "metadata": {},
          "execution_count": 4
        }
      ]
    },
    {
      "cell_type": "code",
      "execution_count": 8,
      "metadata": {
        "colab": {
          "base_uri": "https://localhost:8080/"
        },
        "id": "HgYXmU3phKbg",
        "outputId": "c2abcdbc-cf7b-4002-e933-6018b1f230b5"
      },
      "outputs": [
        {
          "output_type": "stream",
          "name": "stdout",
          "text": [
            "India, Delhi, Gujarat, Tamilnadu, Andhrapradesh, Assam, Bihar, "
          ]
        }
      ],
      "source": [
        "text = \"\"\"Kiran want to know the famous foods in each state of India. So, he opened Google and search for this question. Google showed that\n",
        "in Delhi it is Chaat, in Gujarat it is Dal Dhokli, in Tamilnadu it is Pongal, in Andhrapradesh it is Biryani, in Assam it is Papaya Khar,\n",
        "in Bihar it is Litti Chowkha and so on for all other states\"\"\"\n",
        "\n",
        "doc = nlp(text)\n",
        "\n",
        "from spacy.tokens import Span\n",
        "s1 = Span(doc, 0, 1, label=\"PERSON\")\n",
        "doc.set_ents([s1], default=\"unmodified\")\n",
        "\n",
        "for ent in doc.ents:\n",
        "    if ent.label_ == \"GPE\":\n",
        "        print(ent.text, end=', ')"
      ]
    },
    {
      "cell_type": "markdown",
      "metadata": {
        "id": "F4iEVDe3YkPA"
      },
      "source": [
        "**Expected Output:**\n",
        "\n",
        "Geographical location Names:  [India, Delhi, Gujarat, Tamilnadu, Andhrapradesh, Assam, Bihar]\n",
        "\n",
        "Count:  7"
      ]
    },
    {
      "cell_type": "markdown",
      "metadata": {
        "id": "fJT4UnUYkpSP"
      },
      "source": [
        "#### **Excersie: 2**\n",
        "\n",
        "- Extract all the birth dates of cricketers in the given Text"
      ]
    },
    {
      "cell_type": "code",
      "execution_count": 9,
      "metadata": {
        "colab": {
          "base_uri": "https://localhost:8080/"
        },
        "id": "pOMngJ2chKda",
        "outputId": "48976662-fe40-4af1-a34d-fbdad738c5fe"
      },
      "outputs": [
        {
          "output_type": "stream",
          "name": "stdout",
          "text": [
            "24 April 1973, 5 November 1988, 7 July 1981, 19 December 1974, "
          ]
        }
      ],
      "source": [
        "text = \"\"\"Sachin Tendulkar was born on 24 April 1973, Virat Kholi was born on 5 November 1988, Dhoni was born on 7 July 1981\n",
        "and finally Ricky ponting was born on 19 December 1974.\"\"\"\n",
        "\n",
        "doc = nlp(text)\n",
        "\n",
        "for ent in doc.ents:\n",
        "    if ent.label_ == \"DATE\":\n",
        "        print(ent.text, end=', ')\n"
      ]
    },
    {
      "cell_type": "markdown",
      "metadata": {
        "id": "RuRSEwHAYkPB"
      },
      "source": [
        "**Expected Output:**\n",
        "\n",
        "All Birth Dates:  [24 April 1973, 5 November 1988, 7 July 1981, 19 December 1974]\n",
        "\n",
        "Count:  4"
      ]
    },
    {
      "cell_type": "markdown",
      "metadata": {
        "id": "rFnOduGiYkPB"
      },
      "source": [
        "## [Solution](./named_entity_recognition_solutions.ipynb)"
      ]
    }
  ],
  "metadata": {
    "colab": {
      "name": "Named Entity Recognition (NER).ipynb",
      "provenance": []
    },
    "kernelspec": {
      "display_name": "Python 3 (ipykernel)",
      "language": "python",
      "name": "python3"
    },
    "language_info": {
      "codemirror_mode": {
        "name": "ipython",
        "version": 3
      },
      "file_extension": ".py",
      "mimetype": "text/x-python",
      "name": "python",
      "nbconvert_exporter": "python",
      "pygments_lexer": "ipython3",
      "version": "3.8.10"
    }
  },
  "nbformat": 4,
  "nbformat_minor": 0
}