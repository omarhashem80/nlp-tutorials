{
  "cells": [
    {
      "cell_type": "markdown",
      "metadata": {
        "id": "Yrci22GYhTQP"
      },
      "source": [
        "###                     **Spacy Language Processing Pipelines: Exercises**"
      ]
    },
    {
      "cell_type": "code",
      "execution_count": 1,
      "metadata": {
        "id": "YUMPkcohhgam"
      },
      "outputs": [],
      "source": [
        "#importing necessary libraries\n",
        "import spacy\n",
        "\n",
        "nlp = spacy.load(\"en_core_web_sm\")  #creating an object and loading the pre-trained model for \"English\""
      ]
    },
    {
      "cell_type": "markdown",
      "metadata": {
        "id": "hxtliEGIh4gS"
      },
      "source": [
        "#### **Excersie: 1**\n",
        "\n",
        "- Get all the proper nouns from a given text in a list and also count how many of them.\n",
        "- **Proper Noun** means a noun that names a particular person, place, or thing."
      ]
    },
    {
      "cell_type": "code",
      "execution_count": 2,
      "metadata": {
        "colab": {
          "base_uri": "https://localhost:8080/"
        },
        "id": "lRGfbeEshFf-",
        "outputId": "9ccb3334-2fcb-40e4-edf4-0f650c6ed6f7"
      },
      "outputs": [
        {
          "output_type": "stream",
          "name": "stdout",
          "text": [
            "Proper Nouns:  ['Raju', 'Paris', 'London', 'Dubai', 'Rome', 'Mohan', 'Hyderabad']\n",
            "Count:  7\n"
          ]
        }
      ],
      "source": [
        "text = '''Ravi and Raju are the best friends from school days.They wanted to go for a world tour and\n",
        "visit famous cities like Paris, London, Dubai, Rome etc and also they called their another friend Mohan to take part of this world tour.\n",
        "They started their journey from Hyderabad and spent next 3 months travelling all the wonderful cities in the world and cherish a happy moments!\n",
        "'''\n",
        "\n",
        "# https://spacy.io/usage/linguistic-features\n",
        "\n",
        "#creating the nlp object\n",
        "doc = nlp(text)\n",
        "nouns = []\n",
        "for token in doc:\n",
        "    if token.pos_ == \"PROPN\":\n",
        "        nouns.append(token.text)\n",
        "print(\"Proper Nouns: \", nouns)\n",
        "print(\"Count: \", len(nouns))"
      ]
    },
    {
      "cell_type": "markdown",
      "metadata": {
        "id": "WfU6CRIWhFh8"
      },
      "source": [
        "**Expected Output**\n",
        "\n",
        "Proper Nouns:  [Ravi, Raju, Paris, London, Dubai, Rome, Mohan, Hyderabad]\n",
        "\n",
        "Count:  8\n"
      ]
    },
    {
      "cell_type": "markdown",
      "metadata": {
        "id": "FUr2rnbYmdlv"
      },
      "source": [
        "#### **Excersie: 2**\n",
        "\n",
        "- Get all companies names from a given text and also the count of them.\n",
        "- **Hint**: Use the spacy **ner** functionality"
      ]
    },
    {
      "cell_type": "code",
      "execution_count": 7,
      "metadata": {
        "colab": {
          "base_uri": "https://localhost:8080/"
        },
        "id": "LLf4xyGEmZ2P",
        "outputId": "5b54b907-3919-4552-84a5-523288ba9d63"
      },
      "outputs": [
        {
          "output_type": "stream",
          "name": "stdout",
          "text": [
            "Company Names:  ['Tesla', 'Walmart', 'Amazon', 'Microsoft', 'Google', 'Infosys', 'Reliance', 'HDFC Bank', 'Hindustan Unilever', 'Bharti Airtel']\n",
            "Count:  10\n"
          ]
        }
      ],
      "source": [
        "text = '''The Top 5 companies in USA are Tesla, Walmart, Amazon, Microsoft, Google and the top 5 companies in\n",
        "India are Infosys, Reliance, HDFC Bank, Hindustan Unilever and Bharti Airtel'''\n",
        "\n",
        "\n",
        "doc = nlp(text)\n",
        "companies = []\n",
        "for ent in doc.ents:\n",
        "    if ent.label_ == \"ORG\":\n",
        "        companies.append(ent.text)\n",
        "print(\"Company Names: \", companies)\n",
        "print(\"Count: \", len(companies))\n"
      ]
    },
    {
      "cell_type": "markdown",
      "metadata": {
        "id": "4JK5eMsCmZ5i"
      },
      "source": [
        "**Expected Output**\n",
        "\n",
        "\n",
        "Company Names:  [Tesla, Walmart, Amazon, Microsoft, Google, Infosys, Reliance, HDFC Bank, Hindustan Unilever, Bharti Airtel]\n",
        "\n",
        "Count:  10"
      ]
    },
    {
      "cell_type": "markdown",
      "metadata": {
        "id": "HkbNaNVChFoB"
      },
      "source": [
        "## [**Solution**](./language_processing_exercise_solutions.ipynb)"
      ]
    }
  ],
  "metadata": {
    "colab": {
      "name": "Language Processing_exercise.ipynb",
      "provenance": []
    },
    "kernelspec": {
      "display_name": "Python 3 (ipykernel)",
      "language": "python",
      "name": "python3"
    },
    "language_info": {
      "codemirror_mode": {
        "name": "ipython",
        "version": 3
      },
      "file_extension": ".py",
      "mimetype": "text/x-python",
      "name": "python",
      "nbconvert_exporter": "python",
      "pygments_lexer": "ipython3",
      "version": "3.8.10"
    }
  },
  "nbformat": 4,
  "nbformat_minor": 0
}